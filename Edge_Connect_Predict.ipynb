{
  "nbformat": 4,
  "nbformat_minor": 0,
  "metadata": {
    "colab": {
      "name": "Edge_Connect_Predict.ipynb",
      "provenance": [],
      "collapsed_sections": [],
      "machine_shape": "hm",
      "include_colab_link": true
    },
    "kernelspec": {
      "name": "python3",
      "display_name": "Python 3"
    },
    "accelerator": "GPU",
    "widgets": {
      "application/vnd.jupyter.widget-state+json": {
        "ad7cf09a92c14b3ca996393616195ae2": {
          "model_module": "@jupyter-widgets/controls",
          "model_name": "HBoxModel",
          "state": {
            "_view_name": "HBoxView",
            "_dom_classes": [],
            "_model_name": "HBoxModel",
            "_view_module": "@jupyter-widgets/controls",
            "_model_module_version": "1.5.0",
            "_view_count": null,
            "_view_module_version": "1.5.0",
            "box_style": "",
            "layout": "IPY_MODEL_fcf62125efcf45dbbf355c87d477e603",
            "_model_module": "@jupyter-widgets/controls",
            "children": [
              "IPY_MODEL_6a1a89bd18ce49ce9d755b25e6e0dbf9",
              "IPY_MODEL_67c6bd1152fe4c06afdaeb31f3410941"
            ]
          }
        },
        "fcf62125efcf45dbbf355c87d477e603": {
          "model_module": "@jupyter-widgets/base",
          "model_name": "LayoutModel",
          "state": {
            "_view_name": "LayoutView",
            "grid_template_rows": null,
            "right": null,
            "justify_content": null,
            "_view_module": "@jupyter-widgets/base",
            "overflow": null,
            "_model_module_version": "1.2.0",
            "_view_count": null,
            "flex_flow": null,
            "width": null,
            "min_width": null,
            "border": null,
            "align_items": null,
            "bottom": null,
            "_model_module": "@jupyter-widgets/base",
            "top": null,
            "grid_column": null,
            "overflow_y": null,
            "overflow_x": null,
            "grid_auto_flow": null,
            "grid_area": null,
            "grid_template_columns": null,
            "flex": null,
            "_model_name": "LayoutModel",
            "justify_items": null,
            "grid_row": null,
            "max_height": null,
            "align_content": null,
            "visibility": null,
            "align_self": null,
            "height": null,
            "min_height": null,
            "padding": null,
            "grid_auto_rows": null,
            "grid_gap": null,
            "max_width": null,
            "order": null,
            "_view_module_version": "1.2.0",
            "grid_template_areas": null,
            "object_position": null,
            "object_fit": null,
            "grid_auto_columns": null,
            "margin": null,
            "display": null,
            "left": null
          }
        },
        "6a1a89bd18ce49ce9d755b25e6e0dbf9": {
          "model_module": "@jupyter-widgets/controls",
          "model_name": "IntProgressModel",
          "state": {
            "_view_name": "ProgressView",
            "style": "IPY_MODEL_31c7b28c7094485e935ad015affe739d",
            "_dom_classes": [],
            "description": "100%",
            "_model_name": "IntProgressModel",
            "bar_style": "success",
            "max": 574673361,
            "_view_module": "@jupyter-widgets/controls",
            "_model_module_version": "1.5.0",
            "value": 574673361,
            "_view_count": null,
            "_view_module_version": "1.5.0",
            "orientation": "horizontal",
            "min": 0,
            "description_tooltip": null,
            "_model_module": "@jupyter-widgets/controls",
            "layout": "IPY_MODEL_6f811222f62142caac4c371389c5fc0f"
          }
        },
        "67c6bd1152fe4c06afdaeb31f3410941": {
          "model_module": "@jupyter-widgets/controls",
          "model_name": "HTMLModel",
          "state": {
            "_view_name": "HTMLView",
            "style": "IPY_MODEL_902a393c4fdd422e9e859bf91476cb20",
            "_dom_classes": [],
            "description": "",
            "_model_name": "HTMLModel",
            "placeholder": "​",
            "_view_module": "@jupyter-widgets/controls",
            "_model_module_version": "1.5.0",
            "value": " 548M/548M [02:58&lt;00:00, 3.21MB/s]",
            "_view_count": null,
            "_view_module_version": "1.5.0",
            "description_tooltip": null,
            "_model_module": "@jupyter-widgets/controls",
            "layout": "IPY_MODEL_c9945891ded4400dae203bfe2e7a4eab"
          }
        },
        "31c7b28c7094485e935ad015affe739d": {
          "model_module": "@jupyter-widgets/controls",
          "model_name": "ProgressStyleModel",
          "state": {
            "_view_name": "StyleView",
            "_model_name": "ProgressStyleModel",
            "description_width": "initial",
            "_view_module": "@jupyter-widgets/base",
            "_model_module_version": "1.5.0",
            "_view_count": null,
            "_view_module_version": "1.2.0",
            "bar_color": null,
            "_model_module": "@jupyter-widgets/controls"
          }
        },
        "6f811222f62142caac4c371389c5fc0f": {
          "model_module": "@jupyter-widgets/base",
          "model_name": "LayoutModel",
          "state": {
            "_view_name": "LayoutView",
            "grid_template_rows": null,
            "right": null,
            "justify_content": null,
            "_view_module": "@jupyter-widgets/base",
            "overflow": null,
            "_model_module_version": "1.2.0",
            "_view_count": null,
            "flex_flow": null,
            "width": null,
            "min_width": null,
            "border": null,
            "align_items": null,
            "bottom": null,
            "_model_module": "@jupyter-widgets/base",
            "top": null,
            "grid_column": null,
            "overflow_y": null,
            "overflow_x": null,
            "grid_auto_flow": null,
            "grid_area": null,
            "grid_template_columns": null,
            "flex": null,
            "_model_name": "LayoutModel",
            "justify_items": null,
            "grid_row": null,
            "max_height": null,
            "align_content": null,
            "visibility": null,
            "align_self": null,
            "height": null,
            "min_height": null,
            "padding": null,
            "grid_auto_rows": null,
            "grid_gap": null,
            "max_width": null,
            "order": null,
            "_view_module_version": "1.2.0",
            "grid_template_areas": null,
            "object_position": null,
            "object_fit": null,
            "grid_auto_columns": null,
            "margin": null,
            "display": null,
            "left": null
          }
        },
        "902a393c4fdd422e9e859bf91476cb20": {
          "model_module": "@jupyter-widgets/controls",
          "model_name": "DescriptionStyleModel",
          "state": {
            "_view_name": "StyleView",
            "_model_name": "DescriptionStyleModel",
            "description_width": "",
            "_view_module": "@jupyter-widgets/base",
            "_model_module_version": "1.5.0",
            "_view_count": null,
            "_view_module_version": "1.2.0",
            "_model_module": "@jupyter-widgets/controls"
          }
        },
        "c9945891ded4400dae203bfe2e7a4eab": {
          "model_module": "@jupyter-widgets/base",
          "model_name": "LayoutModel",
          "state": {
            "_view_name": "LayoutView",
            "grid_template_rows": null,
            "right": null,
            "justify_content": null,
            "_view_module": "@jupyter-widgets/base",
            "overflow": null,
            "_model_module_version": "1.2.0",
            "_view_count": null,
            "flex_flow": null,
            "width": null,
            "min_width": null,
            "border": null,
            "align_items": null,
            "bottom": null,
            "_model_module": "@jupyter-widgets/base",
            "top": null,
            "grid_column": null,
            "overflow_y": null,
            "overflow_x": null,
            "grid_auto_flow": null,
            "grid_area": null,
            "grid_template_columns": null,
            "flex": null,
            "_model_name": "LayoutModel",
            "justify_items": null,
            "grid_row": null,
            "max_height": null,
            "align_content": null,
            "visibility": null,
            "align_self": null,
            "height": null,
            "min_height": null,
            "padding": null,
            "grid_auto_rows": null,
            "grid_gap": null,
            "max_width": null,
            "order": null,
            "_view_module_version": "1.2.0",
            "grid_template_areas": null,
            "object_position": null,
            "object_fit": null,
            "grid_auto_columns": null,
            "margin": null,
            "display": null,
            "left": null
          }
        }
      }
    }
  },
  "cells": [
    {
      "cell_type": "markdown",
      "metadata": {
        "id": "view-in-github",
        "colab_type": "text"
      },
      "source": [
        "<a href=\"https://colab.research.google.com/github/advaitkumar3107/GNR-652-Project/blob/master/Edge_Connect_Predict.ipynb\" target=\"_parent\"><img src=\"https://colab.research.google.com/assets/colab-badge.svg\" alt=\"Open In Colab\"/></a>"
      ]
    },
    {
      "cell_type": "code",
      "metadata": {
        "id": "B49MmIFRcG1t",
        "colab_type": "code",
        "outputId": "ea5a6507-d549-47cf-9d1b-971e42c66c3c",
        "colab": {
          "base_uri": "https://localhost:8080/",
          "height": 144
        }
      },
      "source": [
        "from __future__ import print_function\n",
        "#%matplotlib inline\n",
        "import argparse\n",
        "import os\n",
        "import random\n",
        "from random import randint\n",
        "import torch\n",
        "import torch.nn as nn\n",
        "import torch.nn.parallel\n",
        "import torch.backends.cudnn as cudnn\n",
        "import torch.optim as optim\n",
        "import torch.utils.data\n",
        "import torchvision\n",
        "import torchvision.datasets as dset\n",
        "import torchvision.transforms as transforms\n",
        "import torchvision.utils as vutils\n",
        "import numpy as np\n",
        "import matplotlib.pyplot as plt\n",
        "import matplotlib.animation as animation\n",
        "import matplotlib.image as mpimg\n",
        "from scipy import ndimage\n",
        "from scipy.ndimage.filters import convolve\n",
        "from scipy import misc\n",
        "import scipy.misc as sm\n",
        "from skimage.feature import canny\n",
        "from IPython.display import HTML\n",
        "from google.colab import drive \n",
        "drive.mount('/content/gdrive')\n",
        "%cd /content/gdrive/My\\ Drive/\n",
        "import model\n",
        "device = 'cuda'\n",
        "np.random.seed(1)\n",
        "torch.cuda.empty_cache()"
      ],
      "execution_count": 0,
      "outputs": [
        {
          "output_type": "stream",
          "text": [
            "Go to this URL in a browser: https://accounts.google.com/o/oauth2/auth?client_id=947318989803-6bn6qk8qdgf4n4g3pfee6491hc0brc4i.apps.googleusercontent.com&redirect_uri=urn%3aietf%3awg%3aoauth%3a2.0%3aoob&response_type=code&scope=email%20https%3a%2f%2fwww.googleapis.com%2fauth%2fdocs.test%20https%3a%2f%2fwww.googleapis.com%2fauth%2fdrive%20https%3a%2f%2fwww.googleapis.com%2fauth%2fdrive.photos.readonly%20https%3a%2f%2fwww.googleapis.com%2fauth%2fpeopleapi.readonly\n",
            "\n",
            "Enter your authorization code:\n",
            "··········\n",
            "Mounted at /content/gdrive\n",
            "/content/gdrive/My Drive\n"
          ],
          "name": "stdout"
        }
      ]
    },
    {
      "cell_type": "code",
      "metadata": {
        "id": "InTXeEMocG4B",
        "colab_type": "code",
        "colab": {}
      },
      "source": [
        "def rgbtogray(image): #function that converts an rgb to grayscale image\n",
        "  r,g,b = image[:,0,:,:], image[:,1,:,:], image[:,2,:,:]\n",
        "  gray = 0.2989 * r + 0.5870 * g + 0.1140 * b\n",
        "  gray = gray.unsqueeze_(1)\n",
        "  return gray\n",
        "\n",
        "def regular_mask_grayscale(img,random_num):  #function that creates a square mask randomly that masks 25% of the image pixels\n",
        "  k = 0\n",
        "  b_size = img.size(0)\n",
        "  mask_1 = torch.zeros((b_size,1,256,256))\n",
        "  masked_image_1 = torch.zeros((b_size,1,256,256))\n",
        "  for image in img:\n",
        "    masked_image = image.squeeze_(0)*1\n",
        "    rand = random_num\n",
        "    mask = torch.zeros((256,256))\n",
        "    for i in range(rand-10,rand+11):\n",
        "      for j in range(rand-10,rand+11):\n",
        "        masked_image[i][j] = 1.0\n",
        "        mask[i][j] = 1.0\n",
        "    masked_image = masked_image.unsqueeze_(0)\n",
        "    mask = mask.unsqueeze_(0)\n",
        "    mask_1[k,:,:,:] = mask\n",
        "    masked_image_1[k,:,:,:] = masked_image\n",
        "    k = k+1\n",
        "  return masked_image_1,mask_1\n",
        "\n",
        "def irregular_mask(img):  #function that randomly masks 30% of the image pixels\n",
        "  mask = np.zeros((256,256))\n",
        "  for i in range(140):\n",
        "    for j in range(140):\n",
        "      mask[i][j] = 1.0\n",
        "  mask = mask.ravel()\n",
        "  np.random.shuffle(mask)\n",
        "  mask = mask.reshape((1,256,256))\n",
        "  masked_img = img*1\n",
        "  masked_img = np.maximum(masked_img,mask)\n",
        "  return masked_img, mask\n",
        "\n",
        "def gram_matrix(image):\n",
        "\n",
        "  b,ch, h, w = image.size()\n",
        "  f = image.view(b,ch, w * h)\n",
        "  f_T = f.transpose(1,2)\n",
        "  G = f.bmm(f_T) / (h * w * ch)\n",
        "\n",
        "  return G\n",
        "\n",
        "def canny_edge_detector(image):\n",
        "  b_size = image.size(0)\n",
        "  temp1 = torch.zeros((b_size,1,256,256))\n",
        "  i = 0\n",
        "  for images in image:\n",
        "    temp = images.squeeze_(0)\n",
        "    canny_edge = canny(temp.cpu().numpy())\n",
        "    canny_edge = torch.from_numpy(canny_edge).unsqueeze_(0)\n",
        "    temp1[i,:,:,:] = canny_edge\n",
        "    i = i+1\n",
        "  return temp1"
      ],
      "execution_count": 0,
      "outputs": []
    },
    {
      "cell_type": "code",
      "metadata": {
        "id": "Xnle9wp25hCx",
        "colab_type": "code",
        "colab": {}
      },
      "source": [
        "##### MODEL ARCHITECTURES #########\n",
        "\n",
        "import torch\n",
        "import torch.nn as nn\n",
        "import torch.nn.parallel\n",
        "import torch.backends.cudnn as cudnn\n",
        "import torch.optim as optim\n",
        "import torch.utils.data\n",
        "import torchvision\n",
        "import torchvision.datasets as dset\n",
        "import torchvision.transforms as transforms\n",
        "\n",
        "\n",
        "class residual_block_edge(nn.Module):\n",
        "  def __init__(self,ngpu):\n",
        "    super(residual_block_edge,self).__init__()\n",
        "    self.ngpu = ngpu\n",
        "    self.layer1 = nn.Sequential(nn.ReflectionPad2d(1), nn.utils.spectral_norm(nn.Conv2d(256,256,3,1,padding = 0)), nn.InstanceNorm2d(256), nn.ReLU(True))\n",
        "    self.layer2 = nn.Sequential(nn.ReflectionPad2d(1), nn.utils.spectral_norm(nn.Conv2d(256,256,3,1,padding = 0)), nn.InstanceNorm2d(256))\n",
        "\n",
        "  def forward(self,x):\n",
        "    y = self.layer1(x)\n",
        "    y = self.layer2(y)\n",
        "    out = x + y\n",
        "    return out\n",
        "\n",
        "\n",
        "\n",
        "class residual_block_completion(nn.Module):\n",
        "  def __init__(self,ngpu):\n",
        "    super(residual_block_completion,self).__init__()\n",
        "    self.ngpu = ngpu\n",
        "    self.layer1 = nn.Sequential(nn.ReflectionPad2d(1),nn.Conv2d(256,256,3,1,padding = 0), nn.InstanceNorm2d(256), nn.ReLU(True))\n",
        "    self.layer2 = nn.Sequential(nn.ReflectionPad2d(1),nn.Conv2d(256,256,3,1,padding = 0), nn.InstanceNorm2d(256))\n",
        "\n",
        "  def forward(self,x):\n",
        "    y = self.layer1(x)\n",
        "    y = self.layer2(y)\n",
        "    out = x + y\n",
        "    return out\n",
        "\n",
        "\n",
        "\n",
        "\n",
        "class generator1(torch.nn.Module):\n",
        "  def __init__(self, ngpu):\n",
        "    super(generator1,self).__init__()\n",
        "    self.ngpu = ngpu\n",
        "    self.c64 = nn.Sequential(nn.ReflectionPad2d(3),nn.utils.spectral_norm(nn.Conv2d(3,64,7,1, padding = 0)), nn.InstanceNorm2d(64), nn.ReLU(True))\n",
        "    self.d128 = nn.Sequential(nn.utils.spectral_norm(nn.Conv2d(64,128,4,2,padding = 1)), nn.InstanceNorm2d(128),nn.ReLU(True))\n",
        "    self.d256 = nn.Sequential(nn.utils.spectral_norm(nn.Conv2d(128,256,4,2,padding =1)), nn.InstanceNorm2d(256),nn.ReLU(True))\n",
        "    self.r256 = residual_block_edge(ngpu)\n",
        "    self.u128 = nn.Sequential(nn.utils.spectral_norm(nn.ConvTranspose2d(256,128,4,2,padding = 1)), nn.InstanceNorm2d(128), nn.ReLU(True))\n",
        "    self.u64 = nn.Sequential(nn.utils.spectral_norm(nn.ConvTranspose2d(128,64,4,2,padding = 1)), nn.InstanceNorm2d(64), nn.ReLU(True))\n",
        "    self.out = nn.Sequential(nn.ReflectionPad2d(3), nn.utils.spectral_norm(nn.Conv2d(64,1,7,1, padding = 0)))\n",
        "\n",
        "  def forward(self,x):\n",
        "    x = self.c64(x)\n",
        "    x = self.d128(x)\n",
        "    x = self.d256(x)\n",
        "\n",
        "    for i in range(8):\n",
        "      x = self.r256(x)\n",
        "    \n",
        "    x = self.u128(x)\n",
        "    x = self.u64(x)\n",
        "    x = self.out(x)\n",
        "    out = torch.sigmoid(x)\n",
        "    return out\n",
        "\n",
        "\n",
        "\n",
        "\n",
        "class generator2(torch.nn.Module):\n",
        "  def __init__(self,ngpu):\n",
        "    super(generator2,self).__init__()\n",
        "    self.ngpu = ngpu\n",
        "    self.c64 = nn.Sequential(nn.ReflectionPad2d(3),nn.Conv2d(4,64,7,1,padding = 0), nn.InstanceNorm2d(64), nn.ReLU(True))\n",
        "    self.d128 = nn.Sequential(nn.Conv2d(64,128,4,2,padding = 1),nn.InstanceNorm2d(128),nn.ReLU(True))\n",
        "    self.d256 = nn.Sequential(nn.Conv2d(128,256,4,2,padding = 1),nn.InstanceNorm2d(256),nn.ReLU(True))\n",
        "    self.r256 = residual_block_completion(ngpu)\n",
        "    self.u128 = nn.Sequential(nn.ConvTranspose2d(256,128,4,2,padding = 1), nn.InstanceNorm2d(128), nn.ReLU(True))\n",
        "    self.u64 = nn.Sequential(nn.ConvTranspose2d(128,64,4,2,padding = 1),nn.InstanceNorm2d(64), nn.ReLU(True))\n",
        "    self.out = nn.Sequential(nn.ReflectionPad2d(3), nn.Conv2d(64,3,7,1,padding = 0))\n",
        "\n",
        "  def forward(self,x):\n",
        "    x = self.c64(x)\n",
        "    x = self.d128(x)\n",
        "    x = self.d256(x)\n",
        "\n",
        "    for i in range(8):\n",
        "      x = self.r256(x)\n",
        "\n",
        "    x = self.u128(x)\n",
        "    x = self.u64(x)\n",
        "    x = self.out(x)\n",
        "    out = torch.tanh(x)\n",
        "    return out\n",
        "\n",
        "class discriminator(torch.nn.Module):\n",
        "  def __init__(self,in_channels,ngpu):\n",
        "    super(discriminator,self).__init__()\n",
        "    self.ngpu = ngpu\n",
        "    self.c1 = nn.Sequential(nn.utils.spectral_norm(nn.Conv2d(in_channels,64,4,2,padding = 1)), nn.LeakyReLU(0.2))\n",
        "    self.c2 = nn.Sequential(nn.utils.spectral_norm(nn.Conv2d(64,128,4,2,padding = 1)), nn.LeakyReLU(0.2))\n",
        "    self.c3 = nn.Sequential(nn.utils.spectral_norm(nn.Conv2d(128,256,4,2,padding = 1)), nn.LeakyReLU(0.2))\n",
        "    self.c4 = nn.Sequential(nn.utils.spectral_norm(nn.Conv2d(256,512,4,1,padding = 1)), nn.LeakyReLU(0.2))\n",
        "    self.c5 = nn.Sequential(nn.utils.spectral_norm(nn.Conv2d(512,1,4,1,padding = 1)))\n",
        "\n",
        "  def forward(self,x):\n",
        "    c1 = self.c1(x)\n",
        "    c2 = self.c2(c1)\n",
        "    c3 = self.c3(c2)\n",
        "    c4 = self.c4(c3)\n",
        "    c5 = self.c5(c4)\n",
        "    out = torch.sigmoid(c5)\n",
        "    return out, [c1, c2, c3, c4, c5]\n",
        "\n",
        "\n",
        "\n",
        "class Vgg19(torch.nn.Module):\n",
        "    def __init__(self):\n",
        "        super(Vgg19, self).__init__()\n",
        "        features = list(torchvision.models.vgg19(pretrained = True).features)[:31]\n",
        "        self.features = nn.ModuleList(features).eval() \n",
        "        \n",
        "    def forward(self, x):\n",
        "        results = []\n",
        "        for ii,model in enumerate(self.features):\n",
        "            x = model(x)\n",
        "            if ii in {1,6,11,20,29}:\n",
        "                results.append(x)\n",
        "        return results\n",
        "\n",
        "\n",
        "\n",
        "\n",
        "def weights_init(m):\n",
        "  classname = m.__class__.__name__\n",
        "  if hasattr(m, 'weight') and (classname.find('Conv') != -1):\n",
        "    if hasattr(m, 'bias') and m.bias is not None:\n",
        "      nn.init.constant_(m.bias.data, 0.0)\n",
        "    else:\n",
        "      nn.init.normal_(m.weight.data, 0.0, 0.02)\n",
        "\n",
        "  elif classname.find('BatchNorm2d') != -1:\n",
        "    nn.init.normal_(m.weight.data, 1.0, 0.02)\n",
        "    nn.init.constant_(m.bias.data, 0.0)"
      ],
      "execution_count": 0,
      "outputs": []
    },
    {
      "cell_type": "code",
      "metadata": {
        "id": "W9MioLW8cG62",
        "colab_type": "code",
        "colab": {}
      },
      "source": [
        "dataset = dset.ImageFolder(root='celeba',\n",
        "                           transform=transforms.Compose([\n",
        "                               transforms.Resize(256),\n",
        "                               transforms.CenterCrop(256),\n",
        "                               transforms.ToTensor(),\n",
        "                               transforms.Normalize((0.5, 0.5, 0.5), (0.5, 0.5, 0.5)),\n",
        "                           ]))"
      ],
      "execution_count": 0,
      "outputs": []
    },
    {
      "cell_type": "code",
      "metadata": {
        "id": "H_k2W1QHcG83",
        "colab_type": "code",
        "colab": {}
      },
      "source": [
        "train_size = int(0.8 * len(dataset))\n",
        "test_size = len(dataset) - train_size\n",
        "train_dataset,test_dataset = torch.utils.data.random_split(dataset, [train_size, test_size])"
      ],
      "execution_count": 0,
      "outputs": []
    },
    {
      "cell_type": "code",
      "metadata": {
        "id": "trCUqqkCcG_P",
        "colab_type": "code",
        "colab": {}
      },
      "source": [
        "train_dataloader = torch.utils.data.DataLoader(train_dataset, batch_size = 8, shuffle = True, num_workers = 2)\n",
        "test_dataloader = torch.utils.data.DataLoader(test_dataset, batch_size = 8, shuffle = True, num_workers = 2)"
      ],
      "execution_count": 0,
      "outputs": []
    },
    {
      "cell_type": "code",
      "metadata": {
        "id": "D0H0IkKGcHBs",
        "colab_type": "code",
        "outputId": "369c688a-6c79-44a9-c704-75bcbbb639f5",
        "colab": {
          "base_uri": "https://localhost:8080/",
          "height": 121
        }
      },
      "source": [
        "#Plot some training images\n",
        "train_batch = next(iter(train_dataloader))\n",
        "plt.figure(figsize=(8,8))\n",
        "plt.axis(\"off\")\n",
        "plt.title(\"Training Images\")\n",
        "plt.imshow(np.transpose(vutils.make_grid(train_batch[0].to(device)[:64], padding=2, normalize=True).cpu(),(1,2,0)))"
      ],
      "execution_count": 0,
      "outputs": [
        {
          "output_type": "execute_result",
          "data": {
            "text/plain": [
              "<matplotlib.image.AxesImage at 0x7f54e45decc0>"
            ]
          },
          "metadata": {
            "tags": []
          },
          "execution_count": 7
        },
        {
          "output_type": "display_data",
          "data": {
            "image/png": "[encoded data removed]",
            "text/plain": [
              "<Figure size 576x576 with 1 Axes>"
            ]
          },
          "metadata": {
            "tags": []
          }
        }
      ]
    },
    {
      "cell_type": "code",
      "metadata": {
        "id": "5z2b2XimcHEa",
        "colab_type": "code",
        "outputId": "d8d73a6a-b017-4e73-82e0-c78d4364b03b",
        "colab": {
          "base_uri": "https://localhost:8080/",
          "height": 121
        }
      },
      "source": [
        "# Plot some testing images\n",
        "test_batch = next(iter(test_dataloader))\n",
        "plt.figure(figsize=(8,8))\n",
        "plt.axis(\"off\")\n",
        "plt.title(\"Testing Images\")\n",
        "plt.imshow(np.transpose(vutils.make_grid(test_batch[0].to(device)[:64], padding=2, normalize=True).cpu(),(1,2,0)))"
      ],
      "execution_count": 0,
      "outputs": [
        {
          "output_type": "execute_result",
          "data": {
            "text/plain": [
              "<matplotlib.image.AxesImage at 0x7f54dd0b2ac8>"
            ]
          },
          "metadata": {
            "tags": []
          },
          "execution_count": 8
        },
        {
          "output_type": "display_data",
          "data": {
            "image/png": "[encoded data removed]",
            "text/plain": [
              "<Figure size 576x576 with 1 Axes>"
            ]
          },
          "metadata": {
            "tags": []
          }
        }
      ]
    },
    {
      "cell_type": "code",
      "metadata": {
        "id": "lRm24-2OcHGy",
        "colab_type": "code",
        "outputId": "5421d38c-4abe-4fd8-ebdb-5968ef847333",
        "colab": {
          "base_uri": "https://localhost:8080/",
          "height": 460,
          "referenced_widgets": [
            "ad7cf09a92c14b3ca996393616195ae2",
            "fcf62125efcf45dbbf355c87d477e603",
            "6a1a89bd18ce49ce9d755b25e6e0dbf9",
            "67c6bd1152fe4c06afdaeb31f3410941",
            "31c7b28c7094485e935ad015affe739d",
            "6f811222f62142caac4c371389c5fc0f",
            "902a393c4fdd422e9e859bf91476cb20",
            "c9945891ded4400dae203bfe2e7a4eab"
          ]
        }
      },
      "source": [
        "\"\"\"\n",
        "Creating the new models here for training and testing\n",
        "\"\"\"\n",
        "\n",
        "Edge_generator = generator1(1).to(device)\n",
        "Inpaint_generator = generator2(1).to(device)\n",
        "Edge_discriminator = discriminator(2,1).to(device)\n",
        "feature_matching_discriminator = discriminator(1,1).to(device)\n",
        "Inpaint_discriminator = discriminator(4,1).to(device)\n",
        "vgg19 = Vgg19().to(device)\n",
        "\n",
        "Edge_generator.load_state_dict(torch.load('Edge_generator.pt'))\n",
        "Inpaint_generator.load_state_dict(torch.load('Inpaint_generator.pt'))\n",
        "Edge_discriminator.load_state_dict(torch.load('Edge_discriminator.pt'))\n",
        "Inpaint_discriminator.load_state_dict(torch.load('Inpaint_discriminator.pt'))\n",
        "\n",
        "Edge_generator = Edge_generator.eval().to(device)\n",
        "Inpaint_generator = Inpaint_generator.eval().to(device)\n",
        "\n",
        "rand_num = np.random.randint(60,195)\n",
        "test_batch = next(iter(test_dataloader))\n",
        "test_cpu = test_batch[0].to(device)\n",
        "b_size = test_cpu.size(0)\n",
        "I_gray = rgbtogray(test_cpu).to(device)\n",
        "I_gray_masked, mask = regular_mask_grayscale(I_gray,rand_num)\n",
        "I_gray_masked = I_gray_masked.to(device)\n",
        "mask = mask.to(device)\n",
        "\n",
        "r = test_cpu[:,0,:,:].unsqueeze_(1).to(device)\n",
        "g = test_cpu[:,1,:,:].unsqueeze_(1).to(device)\n",
        "b = test_cpu[:,2,:,:].unsqueeze_(1).to(device)\n",
        "\n",
        "I_gt_r = np.maximum(r.cpu(),mask.cpu()).to(device)\n",
        "I_gt_b = np.maximum(b.cpu(),mask.cpu()).to(device)\n",
        "I_gt_g = np.maximum(g.cpu(),mask.cpu()).to(device)\n",
        "\n",
        "I_gt_masked = torch.cat((I_gt_r,I_gt_g,I_gt_b),1).to(device) #RGB image with mask\n",
        "\n",
        "C_gt_masked = canny_edge_detector(I_gray_masked).to(device)\n",
        "edge_generator_input = torch.cat((I_gray_masked, C_gt_masked, mask),1)\n",
        "C_pred = Edge_generator(edge_generator_input) ### Output after first generator\n",
        "\n",
        "C_comp = (C_gt_masked + (torch.ones((b_size,1,256,256)).to(device)-mask) * C_pred).to(device)\n",
        "generator2_input = torch.cat((I_gt_masked,C_comp),1).to(device)\n",
        "I_pred = Inpaint_generator(generator2_input).to(device)\n",
        "\n",
        "\n",
        "\n",
        "#Plot the input images with masks\n",
        "plt.figure(figsize=(8,8))\n",
        "plt.axis(\"off\")\n",
        "plt.title(\"Input Images\")\n",
        "plt.imshow(np.transpose(vutils.make_grid(I_gt_masked.to(device)[:64], padding=2, normalize=True).cpu(),(1,2,0)))\n",
        "\n",
        "# Plot the output images\n",
        "plt.figure(figsize=(8,8))\n",
        "plt.axis(\"off\")\n",
        "plt.title(\"Output Images\")\n",
        "plt.imshow(np.transpose(vutils.make_grid(I_pred.detach().to(device)[:64], padding=2, normalize=True).cpu(),(1,2,0)))"
      ],
      "execution_count": 0,
      "outputs": [
        {
          "output_type": "stream",
          "text": [
            "Downloading: \"https://download.pytorch.org/models/vgg19-dcbb9e9d.pth\" to /root/.cache/torch/checkpoints/vgg19-dcbb9e9d.pth\n"
          ],
          "name": "stderr"
        },
        {
          "output_type": "display_data",
          "data": {
            "application/vnd.jupyter.widget-view+json": {
              "model_id": "ad7cf09a92c14b3ca996393616195ae2",
              "version_minor": 0,
              "version_major": 2
            },
            "text/plain": [
              "HBox(children=(IntProgress(value=0, max=574673361), HTML(value='')))"
            ]
          },
          "metadata": {
            "tags": []
          }
        },
        {
          "output_type": "stream",
          "text": [
            "\n"
          ],
          "name": "stdout"
        },
        {
          "output_type": "execute_result",
          "data": {
            "text/plain": [
              "discriminator(\n",
              "  (c1): Sequential(\n",
              "    (0): Conv2d(4, 64, kernel_size=(4, 4), stride=(2, 2), padding=(1, 1))\n",
              "    (1): LeakyReLU(negative_slope=0.2)\n",
              "  )\n",
              "  (c2): Sequential(\n",
              "    (0): Conv2d(64, 128, kernel_size=(4, 4), stride=(2, 2), padding=(1, 1))\n",
              "    (1): LeakyReLU(negative_slope=0.2)\n",
              "  )\n",
              "  (c3): Sequential(\n",
              "    (0): Conv2d(128, 256, kernel_size=(4, 4), stride=(2, 2), padding=(1, 1))\n",
              "    (1): LeakyReLU(negative_slope=0.2)\n",
              "  )\n",
              "  (c4): Sequential(\n",
              "    (0): Conv2d(256, 512, kernel_size=(4, 4), stride=(1, 1), padding=(1, 1))\n",
              "    (1): LeakyReLU(negative_slope=0.2)\n",
              "  )\n",
              "  (c5): Sequential(\n",
              "    (0): Conv2d(512, 1, kernel_size=(4, 4), stride=(1, 1), padding=(1, 1))\n",
              "  )\n",
              ")"
            ]
          },
          "metadata": {
            "tags": []
          },
          "execution_count": 9
        }
      ]
    },
    {
      "cell_type": "code",
      "metadata": {
        "id": "H38W9kXxxIRm",
        "colab_type": "code",
        "outputId": "5598a9c8-0cd2-457b-8a56-a7db36ad2be8",
        "colab": {
          "base_uri": "https://localhost:8080/",
          "height": 1000
        }
      },
      "source": [
        "plt.imshow(np.transpose(I_gt_masked[5].cpu().detach(),(1,2,0)))"
      ],
      "execution_count": 0,
      "outputs": [
        {
          "output_type": "stream",
          "text": [
            "Beginning Training....\n",
            "[0/99]\t [0/51]\t D1_loss: -1.3945\t G1_loss: -1.3071\t D2_loss: -1.3738\t G2_loss: 0.1365\t\n",
            "[0/99]\t [1/51]\t D1_loss: -1.3886\t G1_loss: -1.3631\t D2_loss: -1.3707\t G2_loss: 0.2469\t\n",
            "[0/99]\t [2/51]\t D1_loss: -1.3875\t G1_loss: -1.3760\t D2_loss: -1.3712\t G2_loss: 0.1259\t\n",
            "[0/99]\t [3/51]\t D1_loss: -1.3872\t G1_loss: -1.3800\t D2_loss: -1.3782\t G2_loss: 0.1740\t\n",
            "[0/99]\t [4/51]\t D1_loss: -1.3870\t G1_loss: -1.3801\t D2_loss: -1.3796\t G2_loss: 0.1576\t\n",
            "[0/99]\t [5/51]\t D1_loss: -1.3869\t G1_loss: -1.3812\t D2_loss: -1.3806\t G2_loss: 0.2782\t\n",
            "[0/99]\t [6/51]\t D1_loss: -1.3869\t G1_loss: -1.3817\t D2_loss: -1.3709\t G2_loss: 0.1977\t\n",
            "[0/99]\t [7/51]\t D1_loss: -1.3869\t G1_loss: -1.3824\t D2_loss: -1.3779\t G2_loss: 0.1452\t\n",
            "[0/99]\t [8/51]\t D1_loss: -1.3868\t G1_loss: -1.3817\t D2_loss: -1.3680\t G2_loss: 0.1368\t\n",
            "[0/99]\t [9/51]\t D1_loss: -1.3868\t G1_loss: -1.3819\t D2_loss: -1.3794\t G2_loss: 0.1742\t\n",
            "[0/99]\t [10/51]\t D1_loss: -1.3868\t G1_loss: -1.3822\t D2_loss: -1.3509\t G2_loss: 0.1470\t\n",
            "[0/99]\t [11/51]\t D1_loss: -1.3868\t G1_loss: -1.3815\t D2_loss: -1.3551\t G2_loss: 0.1679\t\n",
            "[0/99]\t [12/51]\t D1_loss: -1.3868\t G1_loss: -1.3824\t D2_loss: -1.3757\t G2_loss: 0.1552\t\n",
            "[0/99]\t [13/51]\t D1_loss: -1.3868\t G1_loss: -1.3827\t D2_loss: -1.3782\t G2_loss: 0.1326\t\n",
            "[0/99]\t [14/51]\t D1_loss: -1.3868\t G1_loss: -1.3827\t D2_loss: -1.3904\t G2_loss: 0.1333\t\n",
            "[0/99]\t [15/51]\t D1_loss: -1.3868\t G1_loss: -1.3824\t D2_loss: -1.3747\t G2_loss: 0.1426\t\n",
            "[0/99]\t [16/51]\t D1_loss: -1.3868\t G1_loss: -1.3824\t D2_loss: -1.3747\t G2_loss: 0.1654\t\n",
            "[0/99]\t [17/51]\t D1_loss: -1.3868\t G1_loss: -1.3834\t D2_loss: -1.3931\t G2_loss: 0.1546\t\n",
            "[0/99]\t [18/51]\t D1_loss: -1.3868\t G1_loss: -1.3819\t D2_loss: -1.3767\t G2_loss: 0.1437\t\n",
            "[0/99]\t [19/51]\t D1_loss: -1.3868\t G1_loss: -1.3821\t D2_loss: -1.3436\t G2_loss: 0.1684\t\n",
            "[0/99]\t [20/51]\t D1_loss: -1.3868\t G1_loss: -1.3823\t D2_loss: -1.3845\t G2_loss: 0.1762\t\n",
            "[0/99]\t [21/51]\t D1_loss: -1.3868\t G1_loss: -1.3825\t D2_loss: -1.3753\t G2_loss: 0.1335\t\n",
            "[0/99]\t [22/51]\t D1_loss: -1.3868\t G1_loss: -1.3829\t D2_loss: -1.3694\t G2_loss: 0.1780\t\n",
            "[0/99]\t [23/51]\t D1_loss: -1.3868\t G1_loss: -1.3820\t D2_loss: -1.3654\t G2_loss: 0.2098\t\n",
            "[0/99]\t [24/51]\t D1_loss: -1.3868\t G1_loss: -1.3831\t D2_loss: -1.3676\t G2_loss: 0.2534\t\n",
            "[0/99]\t [25/51]\t D1_loss: -1.3867\t G1_loss: -1.3830\t D2_loss: -1.3576\t G2_loss: 0.2023\t\n",
            "[0/99]\t [26/51]\t D1_loss: -1.3868\t G1_loss: -1.3826\t D2_loss: -1.3671\t G2_loss: 0.1990\t\n",
            "[0/99]\t [27/51]\t D1_loss: -1.3868\t G1_loss: -1.3818\t D2_loss: -1.3665\t G2_loss: 0.1797\t\n",
            "[0/99]\t [28/51]\t D1_loss: -1.3867\t G1_loss: -1.3823\t D2_loss: -1.3616\t G2_loss: 0.1899\t\n",
            "[0/99]\t [29/51]\t D1_loss: -1.3868\t G1_loss: -1.3825\t D2_loss: -1.3650\t G2_loss: 0.1484\t\n",
            "[0/99]\t [30/51]\t D1_loss: -1.3868\t G1_loss: -1.3820\t D2_loss: -1.3837\t G2_loss: 0.1587\t\n",
            "[0/99]\t [31/51]\t D1_loss: -1.3867\t G1_loss: -1.3830\t D2_loss: -1.3668\t G2_loss: 0.1142\t\n",
            "[0/99]\t [32/51]\t D1_loss: -1.3867\t G1_loss: -1.3826\t D2_loss: -1.3782\t G2_loss: 0.1398\t\n",
            "[0/99]\t [33/51]\t D1_loss: -1.3868\t G1_loss: -1.3819\t D2_loss: -1.3910\t G2_loss: 0.1131\t\n",
            "[0/99]\t [34/51]\t D1_loss: -1.3867\t G1_loss: -1.3821\t D2_loss: -1.3725\t G2_loss: 0.1855\t\n",
            "[0/99]\t [35/51]\t D1_loss: -1.3867\t G1_loss: -1.3825\t D2_loss: -1.3829\t G2_loss: 0.1599\t\n",
            "[0/99]\t [36/51]\t D1_loss: -1.3867\t G1_loss: -1.3830\t D2_loss: -1.3789\t G2_loss: 0.1509\t\n",
            "[0/99]\t [37/51]\t D1_loss: -1.3868\t G1_loss: -1.3824\t D2_loss: -1.3549\t G2_loss: 0.1464\t\n",
            "[0/99]\t [38/51]\t D1_loss: -1.3867\t G1_loss: -1.3825\t D2_loss: -1.3836\t G2_loss: 0.1487\t\n",
            "[0/99]\t [39/51]\t D1_loss: -1.3867\t G1_loss: -1.3826\t D2_loss: -1.3691\t G2_loss: 0.1488\t\n",
            "[0/99]\t [40/51]\t D1_loss: -1.3867\t G1_loss: -1.3826\t D2_loss: -1.3775\t G2_loss: 0.1601\t\n",
            "[0/99]\t [41/51]\t D1_loss: -1.3867\t G1_loss: -1.3826\t D2_loss: -1.3708\t G2_loss: 0.1959\t\n",
            "[0/99]\t [42/51]\t D1_loss: -1.3867\t G1_loss: -1.3836\t D2_loss: -1.3728\t G2_loss: 0.1058\t\n",
            "[0/99]\t [43/51]\t D1_loss: -1.3867\t G1_loss: -1.3826\t D2_loss: -1.3790\t G2_loss: 0.1172\t\n",
            "[0/99]\t [44/51]\t D1_loss: -1.3867\t G1_loss: -1.3833\t D2_loss: -1.3574\t G2_loss: 0.1956\t\n",
            "[0/99]\t [45/51]\t D1_loss: -1.3867\t G1_loss: -1.3829\t D2_loss: -1.3691\t G2_loss: 0.1160\t\n",
            "[0/99]\t [46/51]\t D1_loss: -1.3867\t G1_loss: -1.3826\t D2_loss: -1.3692\t G2_loss: 0.1419\t\n",
            "[0/99]\t [47/51]\t D1_loss: -1.3868\t G1_loss: -1.3823\t D2_loss: -1.3313\t G2_loss: 0.2217\t\n",
            "[0/99]\t [48/51]\t D1_loss: -1.3867\t G1_loss: -1.3835\t D2_loss: -1.3715\t G2_loss: 0.2141\t\n",
            "[0/99]\t [49/51]\t D1_loss: -1.3867\t G1_loss: -1.3828\t D2_loss: -1.3606\t G2_loss: 0.1708\t\n",
            "[0/99]\t [50/51]\t D1_loss: -1.3867\t G1_loss: -1.3822\t D2_loss: -1.3612\t G2_loss: 0.1571\t\n",
            "[0/99]\t [51/51]\t D1_loss: -1.3867\t G1_loss: -1.3836\t D2_loss: -1.3904\t G2_loss: 0.1460\t\n",
            "[1/99]\t [0/51]\t D1_loss: -1.3867\t G1_loss: -1.3832\t D2_loss: -1.3782\t G2_loss: 0.1048\t\n",
            "[1/99]\t [1/51]\t D1_loss: -1.3867\t G1_loss: -1.3830\t D2_loss: -1.3506\t G2_loss: 0.2730\t\n",
            "[1/99]\t [2/51]\t D1_loss: -1.3867\t G1_loss: -1.3829\t D2_loss: -1.3384\t G2_loss: 0.1897\t\n",
            "[1/99]\t [3/51]\t D1_loss: -1.3867\t G1_loss: -1.3832\t D2_loss: -1.3615\t G2_loss: 0.1829\t\n",
            "[1/99]\t [4/51]\t D1_loss: -1.3868\t G1_loss: -1.3825\t D2_loss: -1.3745\t G2_loss: 0.1057\t\n",
            "[1/99]\t [5/51]\t D1_loss: -1.3867\t G1_loss: -1.3825\t D2_loss: -1.3537\t G2_loss: 0.1577\t\n",
            "[1/99]\t [6/51]\t D1_loss: -1.3868\t G1_loss: -1.3831\t D2_loss: -1.3667\t G2_loss: 0.2120\t\n",
            "[1/99]\t [7/51]\t D1_loss: -1.3867\t G1_loss: -1.3823\t D2_loss: -1.3765\t G2_loss: 0.1403\t\n",
            "[1/99]\t [8/51]\t D1_loss: -1.3867\t G1_loss: -1.3827\t D2_loss: -1.3930\t G2_loss: 0.1316\t\n",
            "[1/99]\t [9/51]\t D1_loss: -1.3868\t G1_loss: -1.3820\t D2_loss: -1.3729\t G2_loss: 0.1657\t\n"
          ],
          "name": "stdout"
        },
        {
          "output_type": "error",
          "ename": "KeyboardInterrupt",
          "evalue": "ignored",
          "traceback": [
            "\u001b[0;31m---------------------------------------------------------------------------\u001b[0m",
            "\u001b[0;31mKeyboardInterrupt\u001b[0m                         Traceback (most recent call last)",
            "\u001b[0;32m<ipython-input-24-fdddff5f8ef5>\u001b[0m in \u001b[0;36m<module>\u001b[0;34m()\u001b[0m\n\u001b[1;32m    191\u001b[0m     \u001b[0mG2_losses\u001b[0m\u001b[0;34m.\u001b[0m\u001b[0mappend\u001b[0m\u001b[0;34m(\u001b[0m\u001b[0minpaint_generator_loss\u001b[0m\u001b[0;34m)\u001b[0m\u001b[0;34m\u001b[0m\u001b[0;34m\u001b[0m\u001b[0m\n\u001b[1;32m    192\u001b[0m \u001b[0;34m\u001b[0m\u001b[0m\n\u001b[0;32m--> 193\u001b[0;31m     \u001b[0mprint\u001b[0m\u001b[0;34m(\u001b[0m\u001b[0;34m'[%d/%d]\\t [%d/51]\\t D1_loss: %.4f\\t G1_loss: %.4f\\t D2_loss: %.4f\\t G2_loss: %.4f\\t'\u001b[0m \u001b[0;34m%\u001b[0m \u001b[0;34m(\u001b[0m\u001b[0mepoch\u001b[0m\u001b[0;34m,\u001b[0m\u001b[0mepochs\u001b[0m\u001b[0;34m-\u001b[0m\u001b[0;36m1\u001b[0m\u001b[0;34m,\u001b[0m\u001b[0mi\u001b[0m\u001b[0;34m,\u001b[0m\u001b[0medge_discriminator_loss\u001b[0m\u001b[0;34m,\u001b[0m \u001b[0medge_generator_loss\u001b[0m\u001b[0;34m,\u001b[0m \u001b[0minpaint_discriminator_loss\u001b[0m\u001b[0;34m,\u001b[0m \u001b[0minpaint_generator_loss\u001b[0m\u001b[0;34m)\u001b[0m\u001b[0;34m)\u001b[0m\u001b[0;34m\u001b[0m\u001b[0;34m\u001b[0m\u001b[0m\n\u001b[0m\u001b[1;32m    194\u001b[0m \u001b[0;34m\u001b[0m\u001b[0m\n\u001b[1;32m    195\u001b[0m   \u001b[0mtorch\u001b[0m\u001b[0;34m.\u001b[0m\u001b[0msave\u001b[0m\u001b[0;34m(\u001b[0m\u001b[0mEdge_generator\u001b[0m\u001b[0;34m.\u001b[0m\u001b[0mstate_dict\u001b[0m\u001b[0;34m(\u001b[0m\u001b[0;34m)\u001b[0m\u001b[0;34m,\u001b[0m \u001b[0;34m'Edge_generator.pt'\u001b[0m\u001b[0;34m)\u001b[0m\u001b[0;34m\u001b[0m\u001b[0;34m\u001b[0m\u001b[0m\n",
            "\u001b[0;31mKeyboardInterrupt\u001b[0m: "
          ]
        }
      ]
    },
    {
      "cell_type": "code",
      "metadata": {
        "id": "QV4FcGVR1GVT",
        "colab_type": "code",
        "colab": {}
      },
      "source": [
        "plt.imshow(np.transpose(I_pred[5].cpu().detach(),(1,2,0)))"
      ],
      "execution_count": 0,
      "outputs": []
    }
  ]
}